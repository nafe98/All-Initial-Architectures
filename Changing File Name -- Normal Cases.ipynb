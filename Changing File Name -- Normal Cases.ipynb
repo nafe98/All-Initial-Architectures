{
 "cells": [
  {
   "cell_type": "code",
   "execution_count": 1,
   "id": "5a0bc510",
   "metadata": {},
   "outputs": [],
   "source": [
    "import random\n",
    "y = random.randint(0,999999999)\n",
    "x = random.randint(78888,999999999)"
   ]
  },
  {
   "cell_type": "code",
   "execution_count": 2,
   "id": "0257a9ba",
   "metadata": {},
   "outputs": [],
   "source": [
    "import os\n",
    "path = os.chdir(\"Dataset/Normal cases/\") \n",
    "i=0\n",
    "for file in os.listdir(path):\n",
    "    new_file = \"{}.jpg\".format(i)\n",
    "    os.rename(file,new_file)\n",
    "    i=x+y+i+1"
   ]
  },
  {
   "cell_type": "code",
   "execution_count": null,
   "id": "ce177f30",
   "metadata": {},
   "outputs": [],
   "source": []
  }
 ],
 "metadata": {
  "kernelspec": {
   "display_name": "Python 3 (ipykernel)",
   "language": "python",
   "name": "python3"
  },
  "language_info": {
   "codemirror_mode": {
    "name": "ipython",
    "version": 3
   },
   "file_extension": ".py",
   "mimetype": "text/x-python",
   "name": "python",
   "nbconvert_exporter": "python",
   "pygments_lexer": "ipython3",
   "version": "3.8.12"
  }
 },
 "nbformat": 4,
 "nbformat_minor": 5
}
