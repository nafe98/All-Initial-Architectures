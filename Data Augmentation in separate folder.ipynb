{
 "cells": [
  {
   "cell_type": "code",
   "execution_count": 16,
   "id": "98c0d734",
   "metadata": {},
   "outputs": [],
   "source": [
    "import cv2\n",
    "from os import listdir\n",
    "from keras.preprocessing.image import ImageDataGenerator"
   ]
  },
  {
   "cell_type": "code",
   "execution_count": 12,
   "id": "6ae7fd01",
   "metadata": {},
   "outputs": [],
   "source": [
    "image_dir=\"train/\""
   ]
  },
  {
   "cell_type": "code",
   "execution_count": 13,
   "id": "7367dfd8",
   "metadata": {},
   "outputs": [],
   "source": [
    "os.makedirs('Augmented Data')\n",
    "os.makedirs('Augmented Data/Malignant cases')\n",
    "os.makedirs('Augmented Data/Normal cases')"
   ]
  },
  {
   "cell_type": "code",
   "execution_count": 14,
   "id": "d67eb035",
   "metadata": {},
   "outputs": [],
   "source": [
    "def augment_data(file_dir, n_generated_samples, save_to_dir):\n",
    "    data_gen = ImageDataGenerator(rotation_range=90,\n",
    "                                  horizontal_flip=True, \n",
    "                                  vertical_flip=True)\n",
    "\n",
    "    \n",
    "    \n",
    "    \n",
    "    for filename in listdir(file_dir):\n",
    "        image = cv2.imread(file_dir + '/' + filename)\n",
    "\n",
    "        image = image.reshape((1,)+image.shape)\n",
    "        save_prefix = 'aug_' + filename[:-4]\n",
    "        i=0\n",
    "        for batch in data_gen.flow(x=image, batch_size=1, save_to_dir=save_to_dir,save_prefix=save_prefix, save_format='jpg'):\n",
    "                i += 1\n",
    "                if i > n_generated_samples:\n",
    "                    break"
   ]
  },
  {
   "cell_type": "code",
   "execution_count": 17,
   "id": "8fd1ff22",
   "metadata": {},
   "outputs": [],
   "source": [
    "augmented_data_path ='Augmented Data/'\n",
    "\n",
    "\n",
    "# augment data for the examples with label equal to 'yes' representing tumurous examples\n",
    "augment_data(file_dir=image_dir+'Malignant cases',n_generated_samples=3, save_to_dir=augmented_data_path+'Malignant cases')\n",
    "\n",
    "\n",
    "\n",
    "\n",
    "# augment data for the examples with label equal to 'no' representing non-tumurous examples\n",
    "augment_data(file_dir=image_dir+'Normal cases', n_generated_samples=3, save_to_dir=augmented_data_path+'Normal cases')"
   ]
  },
  {
   "cell_type": "code",
   "execution_count": null,
   "id": "9ae908f4",
   "metadata": {},
   "outputs": [],
   "source": []
  },
  {
   "cell_type": "code",
   "execution_count": null,
   "id": "64e44725",
   "metadata": {},
   "outputs": [],
   "source": []
  }
 ],
 "metadata": {
  "kernelspec": {
   "display_name": "Python 3 (ipykernel)",
   "language": "python",
   "name": "python3"
  },
  "language_info": {
   "codemirror_mode": {
    "name": "ipython",
    "version": 3
   },
   "file_extension": ".py",
   "mimetype": "text/x-python",
   "name": "python",
   "nbconvert_exporter": "python",
   "pygments_lexer": "ipython3",
   "version": "3.8.12"
  }
 },
 "nbformat": 4,
 "nbformat_minor": 5
}
