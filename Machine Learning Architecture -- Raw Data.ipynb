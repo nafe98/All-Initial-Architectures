{
 "cells": [
  {
   "cell_type": "markdown",
   "id": "8aaab1ed",
   "metadata": {},
   "source": [
    "https://iq.opengenus.org/basics-of-machine-learning-image-classification-techniques/\n",
    "\n",
    "https://www.geeksforgeeks.org/python-image-classification-using-keras/\n",
    "\n",
    "https://www.analyticsvidhya.com/blog/2022/01/image-classification-using-machine-learning/\n",
    "\n",
    "https://github.com/hasabo/Machine-Learning/blob/master/Python/Image_Classification%20/Image_Classification.ipynb  "
   ]
  },
  {
   "cell_type": "markdown",
   "id": "6ae78a4c",
   "metadata": {},
   "source": [
    "# Importing Libraries"
   ]
  },
  {
   "cell_type": "code",
   "execution_count": 1,
   "id": "749c68bd",
   "metadata": {},
   "outputs": [],
   "source": [
    "import os\n",
    "import cv2\n",
    "import seaborn as sns\n",
    "import numpy as np\n",
    "import pandas as pd\n",
    "from tqdm import tqdm\n",
    "import matplotlib.pylab as plt\n",
    "from sklearn.metrics import confusion_matrix, f1_score, accuracy_score, classification_report"
   ]
  },
  {
   "cell_type": "markdown",
   "id": "995447ec",
   "metadata": {},
   "source": [
    "# Loading Dataset"
   ]
  },
  {
   "cell_type": "code",
   "execution_count": 2,
   "id": "d6914350",
   "metadata": {},
   "outputs": [],
   "source": [
    "class_names = ['Malignant cases', 'Normal cases']\n",
    "class_names_label = {class_name:i for i, class_name in enumerate(class_names)}\n",
    "\n",
    "nb_classes = len(class_names)\n",
    "\n",
    "IMAGE_SIZE = (224, 224)"
   ]
  },
  {
   "cell_type": "code",
   "execution_count": 3,
   "id": "ca7ebc0e",
   "metadata": {},
   "outputs": [],
   "source": [
    "def load_data():\n",
    "  \n",
    "    datasets = ['train', 'test']\n",
    "    output = []    \n",
    "    for dataset in datasets:        \n",
    "        images = []\n",
    "        labels = []        \n",
    "        print(\"Loading {}\".format(dataset))\n",
    "        \n",
    "        \n",
    "        for folder in os.listdir(dataset):\n",
    "            label = class_names_label[folder]            \n",
    "            for file in tqdm(os.listdir(os.path.join(dataset, folder))):                \n",
    "                img_path = os.path.join(os.path.join(dataset, folder), file)                \n",
    "                image = cv2.imread(img_path)\n",
    "                image = cv2.resize(image, IMAGE_SIZE)                 \n",
    "                images.append(image)\n",
    "                labels.append(label)\n",
    "                \n",
    "        images = np.array(images, dtype = 'float32')\n",
    "        labels = np.array(labels, dtype = 'int32')   \n",
    "        \n",
    "        output.append((images, labels))\n",
    "        \n",
    "    return output"
   ]
  },
  {
   "cell_type": "code",
   "execution_count": 4,
   "id": "1cf1e89f",
   "metadata": {},
   "outputs": [
    {
     "name": "stdout",
     "output_type": "stream",
     "text": [
      "Loading train\n"
     ]
    },
    {
     "name": "stderr",
     "output_type": "stream",
     "text": [
      "100%|████████████████████████████████████████████████████████████████████████████████| 448/448 [00:08<00:00, 51.27it/s]\n",
      "100%|████████████████████████████████████████████████████████████████████████████████| 428/428 [00:08<00:00, 47.65it/s]\n"
     ]
    },
    {
     "name": "stdout",
     "output_type": "stream",
     "text": [
      "Loading test\n"
     ]
    },
    {
     "name": "stderr",
     "output_type": "stream",
     "text": [
      "100%|████████████████████████████████████████████████████████████████████████████████| 113/113 [00:02<00:00, 46.05it/s]\n",
      "100%|████████████████████████████████████████████████████████████████████████████████| 108/108 [00:02<00:00, 50.48it/s]\n"
     ]
    }
   ],
   "source": [
    "(train_images, train_labels), (test_images, test_labels) = load_data()"
   ]
  },
  {
   "cell_type": "markdown",
   "id": "7accbb3c",
   "metadata": {},
   "source": [
    "# Shuffle Data "
   ]
  },
  {
   "cell_type": "code",
   "execution_count": 6,
   "id": "dab14ebf",
   "metadata": {},
   "outputs": [],
   "source": [
    "from sklearn.utils import shuffle \n",
    "train_images, train_labels = shuffle(train_images, train_labels, random_state=25)"
   ]
  },
  {
   "cell_type": "markdown",
   "id": "b2e99791",
   "metadata": {},
   "source": [
    "# Exploratory Data Analysis"
   ]
  },
  {
   "cell_type": "code",
   "execution_count": 7,
   "id": "545f3ec3",
   "metadata": {},
   "outputs": [
    {
     "name": "stdout",
     "output_type": "stream",
     "text": [
      "Number of training examples: 876\n",
      "Number of testing examples: 221\n",
      "Each image is of size: (224, 224)\n"
     ]
    }
   ],
   "source": [
    "n_train = train_labels.shape[0]\n",
    "n_test = test_labels.shape[0]\n",
    "\n",
    "print (\"Number of training examples: {}\".format(n_train))\n",
    "print (\"Number of testing examples: {}\".format(n_test))\n",
    "print (\"Each image is of size: {}\".format(IMAGE_SIZE))"
   ]
  },
  {
   "cell_type": "code",
   "execution_count": 8,
   "id": "7d278a4b",
   "metadata": {},
   "outputs": [
    {
     "data": {
      "image/png": "[encoded data removed]",
      "text/plain": [
       "<Figure size 432x288 with 1 Axes>"
      ]
     },
     "metadata": {
      "needs_background": "light"
     },
     "output_type": "display_data"
    }
   ],
   "source": [
    "_, train_counts = np.unique(train_labels, return_counts=True)\n",
    "_, test_counts = np.unique(test_labels, return_counts=True)\n",
    "\n",
    "pd.DataFrame({'train': train_counts,\n",
    "              'test': test_counts}, \n",
    "             index=class_names).plot.bar()\n",
    "\n",
    "plt.show()"
   ]
  },
  {
   "cell_type": "code",
   "execution_count": 9,
   "id": "b4ae70a8",
   "metadata": {},
   "outputs": [
    {
     "data": {
      "image/png": "[encoded data removed]",
      "text/plain": [
       "<Figure size 432x288 with 1 Axes>"
      ]
     },
     "metadata": {},
     "output_type": "display_data"
    }
   ],
   "source": [
    "plt.pie(train_counts,\n",
    "        explode=None, \n",
    "        labels=class_names,\n",
    "        autopct='%1.1f%%')\n",
    "\n",
    "plt.axis('equal')\n",
    "plt.title('Proportion of Each Observed Category')\n",
    "plt.show()"
   ]
  },
  {
   "cell_type": "markdown",
   "id": "f6e7e790",
   "metadata": {},
   "source": [
    "# Data Preprocessing"
   ]
  },
  {
   "cell_type": "code",
   "execution_count": 10,
   "id": "ff7cf062",
   "metadata": {},
   "outputs": [],
   "source": [
    "train_images = train_images / 255.0 \n",
    "test_images = test_images / 255.0"
   ]
  },
  {
   "cell_type": "markdown",
   "id": "5b1f13c1",
   "metadata": {},
   "source": [
    "### Make Data 1D for compatability with Standard Classifiers"
   ]
  },
  {
   "cell_type": "code",
   "execution_count": 11,
   "id": "45db4ef2",
   "metadata": {},
   "outputs": [],
   "source": [
    "X_trainShape = train_images.shape[1]*train_images.shape[2]*train_images.shape[3]\n",
    "X_testShape = test_images.shape[1]*test_images.shape[2]*test_images.shape[3]\n",
    "\n",
    "X_trainFlat = train_images.reshape(train_images.shape[0], X_trainShape)\n",
    "X_testFlat = test_images.reshape(test_images.shape[0], X_testShape)"
   ]
  },
  {
   "cell_type": "markdown",
   "id": "4bd00274",
   "metadata": {},
   "source": [
    "# Machine Learning Models"
   ]
  },
  {
   "cell_type": "markdown",
   "id": "1b0b6f8c",
   "metadata": {},
   "source": [
    "# Decision Tree"
   ]
  },
  {
   "cell_type": "code",
   "execution_count": 12,
   "id": "afabfef7",
   "metadata": {},
   "outputs": [
    {
     "data": {
      "text/plain": [
       "DecisionTreeClassifier()"
      ]
     },
     "execution_count": 12,
     "metadata": {},
     "output_type": "execute_result"
    }
   ],
   "source": [
    "from sklearn import tree\n",
    "tree = tree.DecisionTreeClassifier()\n",
    "tree.fit(X_trainFlat, train_labels)"
   ]
  },
  {
   "cell_type": "code",
   "execution_count": 13,
   "id": "26b050fc",
   "metadata": {},
   "outputs": [],
   "source": [
    "y_pred1 = tree.predict(X_testFlat)"
   ]
  },
  {
   "cell_type": "code",
   "execution_count": 14,
   "id": "f258e4e9",
   "metadata": {},
   "outputs": [
    {
     "name": "stdout",
     "output_type": "stream",
     "text": [
      "Accuracy is: 91.4027149321267\n"
     ]
    }
   ],
   "source": [
    "from sklearn.metrics import accuracy_score\n",
    "accuracy = {accuracy_score(test_labels, y_pred1)}\n",
    "print(f\"Accuracy is: {accuracy_score(test_labels, y_pred1)* 100}\")"
   ]
  },
  {
   "cell_type": "code",
   "execution_count": 15,
   "id": "dd656143",
   "metadata": {},
   "outputs": [
    {
     "name": "stdout",
     "output_type": "stream",
     "text": [
      "\u001b[1mClassification report : \u001b[0m\n",
      "               precision    recall  f1-score   support\n",
      "\n",
      "           0       0.89      0.95      0.92       113\n",
      "           1       0.94      0.88      0.91       108\n",
      "\n",
      "    accuracy                           0.91       221\n",
      "   macro avg       0.92      0.91      0.91       221\n",
      "weighted avg       0.92      0.91      0.91       221\n",
      "\n",
      "\u001b[1mConfusion Matrix : \u001b[0m\n"
     ]
    },
    {
     "data": {
      "image/png": "[encoded data removed]",
      "text/plain": [
       "<Figure size 432x288 with 2 Axes>"
      ]
     },
     "metadata": {
      "needs_background": "light"
     },
     "output_type": "display_data"
    }
   ],
   "source": [
    "print('\\033[1m' +'Classification report : '+ '\\033[0m\\n', classification_report(test_labels, y_pred1))\n",
    "\n",
    "cm = confusion_matrix(y_pred1, test_labels)\n",
    "print('\\033[1m' +'Confusion Matrix : '+ '\\033[0m')\n",
    "sns.heatmap(cm, cmap = 'OrRd',annot = True, fmt='d')\n",
    "plt.show()"
   ]
  },
  {
   "cell_type": "markdown",
   "id": "cdae1fd3",
   "metadata": {},
   "source": [
    "# Evaluation -- Decision Tree"
   ]
  },
  {
   "cell_type": "code",
   "execution_count": 16,
   "id": "3f91c5e4",
   "metadata": {},
   "outputs": [
    {
     "name": "stdout",
     "output_type": "stream",
     "text": [
      "MAE: 0.08597285067873303\n",
      "MSE: 0.08597285067873303\n",
      "RMSE: 0.29321127310990797\n"
     ]
    }
   ],
   "source": [
    "from sklearn import metrics\n",
    "\n",
    "print('MAE:', metrics.mean_absolute_error(test_labels,y_pred1))\n",
    "print('MSE:', metrics.mean_squared_error(test_labels, y_pred1))\n",
    "print('RMSE:', np.sqrt(metrics.mean_squared_error(test_labels, y_pred1)))"
   ]
  },
  {
   "cell_type": "code",
   "execution_count": 17,
   "id": "6265e617",
   "metadata": {},
   "outputs": [
    {
     "name": "stdout",
     "output_type": "stream",
     "text": [
      "Precision Score :  0.915576885742873\n",
      "Recall Score :  0.9140271493212669\n",
      "f1_score :  0.9138788502585523\n"
     ]
    }
   ],
   "source": [
    "from sklearn.metrics import precision_score\n",
    "print(\"Precision Score : \",precision_score(test_labels, y_pred1, average='weighted'))\n",
    "\n",
    "\n",
    "from sklearn.metrics import recall_score\n",
    "print(\"Recall Score : \",recall_score(test_labels, y_pred1,average='weighted'))\n",
    "\n",
    "\n",
    "from sklearn.metrics import f1_score\n",
    "print(\"f1_score : \",f1_score(test_labels, y_pred1,average='weighted'))"
   ]
  },
  {
   "cell_type": "markdown",
   "id": "82ba2a13",
   "metadata": {},
   "source": [
    "# Random Forest Classifier"
   ]
  },
  {
   "cell_type": "code",
   "execution_count": 18,
   "id": "fd26b4d1",
   "metadata": {},
   "outputs": [
    {
     "data": {
      "text/plain": [
       "RandomForestClassifier()"
      ]
     },
     "execution_count": 18,
     "metadata": {},
     "output_type": "execute_result"
    }
   ],
   "source": [
    "from sklearn.ensemble import RandomForestClassifier\n",
    "RandomForestClassifier = RandomForestClassifier()\n",
    "RandomForestClassifier.fit(X_trainFlat, train_labels)"
   ]
  },
  {
   "cell_type": "code",
   "execution_count": 19,
   "id": "d5c698b8",
   "metadata": {},
   "outputs": [],
   "source": [
    "y_pred3 = RandomForestClassifier.predict(X_testFlat)"
   ]
  },
  {
   "cell_type": "code",
   "execution_count": 20,
   "id": "3321c74c",
   "metadata": {},
   "outputs": [
    {
     "name": "stdout",
     "output_type": "stream",
     "text": [
      "Accuracy is: 100.0\n"
     ]
    }
   ],
   "source": [
    "from sklearn.metrics import accuracy_score\n",
    "accuracy = {accuracy_score(test_labels, y_pred3)}\n",
    "print(f\"Accuracy is: {accuracy_score(test_labels, y_pred3)* 100}\")"
   ]
  },
  {
   "cell_type": "code",
   "execution_count": 21,
   "id": "2c7cab75",
   "metadata": {},
   "outputs": [
    {
     "name": "stdout",
     "output_type": "stream",
     "text": [
      "\u001b[1mClassification report : \u001b[0m\n",
      "               precision    recall  f1-score   support\n",
      "\n",
      "           0       1.00      1.00      1.00       113\n",
      "           1       1.00      1.00      1.00       108\n",
      "\n",
      "    accuracy                           1.00       221\n",
      "   macro avg       1.00      1.00      1.00       221\n",
      "weighted avg       1.00      1.00      1.00       221\n",
      "\n",
      "\u001b[1mConfusion Matrix : \u001b[0m\n"
     ]
    },
    {
     "data": {
      "image/png": "[encoded data removed]",
      "text/plain": [
       "<Figure size 432x288 with 2 Axes>"
      ]
     },
     "metadata": {
      "needs_background": "light"
     },
     "output_type": "display_data"
    }
   ],
   "source": [
    "print('\\033[1m' +'Classification report : '+ '\\033[0m\\n', classification_report(test_labels, y_pred3))\n",
    "\n",
    "cm = confusion_matrix(y_pred3, test_labels)\n",
    "print('\\033[1m' +'Confusion Matrix : '+ '\\033[0m')\n",
    "sns.heatmap(cm, cmap = 'OrRd',annot = True, fmt='d')\n",
    "plt.show()"
   ]
  },
  {
   "cell_type": "markdown",
   "id": "ed3d26da",
   "metadata": {},
   "source": [
    "# Evaluation -- Random Forest"
   ]
  },
  {
   "cell_type": "code",
   "execution_count": 22,
   "id": "cd8974d2",
   "metadata": {},
   "outputs": [
    {
     "name": "stdout",
     "output_type": "stream",
     "text": [
      "MAE: 0.0\n",
      "MSE: 0.0\n",
      "RMSE: 0.0\n"
     ]
    }
   ],
   "source": [
    "from sklearn import metrics\n",
    "\n",
    "print('MAE:', metrics.mean_absolute_error(test_labels,y_pred3))\n",
    "print('MSE:', metrics.mean_squared_error(test_labels, y_pred3))\n",
    "print('RMSE:', np.sqrt(metrics.mean_squared_error(test_labels, y_pred3)))"
   ]
  },
  {
   "cell_type": "code",
   "execution_count": 23,
   "id": "e9c74478",
   "metadata": {},
   "outputs": [
    {
     "name": "stdout",
     "output_type": "stream",
     "text": [
      "Precision Score :  1.0\n",
      "Recall Score :  1.0\n",
      "f1_score :  1.0\n"
     ]
    }
   ],
   "source": [
    "from sklearn.metrics import precision_score\n",
    "print(\"Precision Score : \",precision_score(test_labels, y_pred3, average='weighted'))\n",
    "\n",
    "\n",
    "from sklearn.metrics import recall_score\n",
    "print(\"Recall Score : \",recall_score(test_labels, y_pred3,average='weighted'))\n",
    "\n",
    "\n",
    "from sklearn.metrics import f1_score\n",
    "print(\"f1_score : \",f1_score(test_labels, y_pred3,average='weighted'))"
   ]
  },
  {
   "cell_type": "markdown",
   "id": "4fe46c7f",
   "metadata": {},
   "source": [
    "# ExtraTreesClassifier"
   ]
  },
  {
   "cell_type": "code",
   "execution_count": 24,
   "id": "bfc8b4b1",
   "metadata": {},
   "outputs": [
    {
     "data": {
      "text/plain": [
       "ExtraTreesClassifier()"
      ]
     },
     "execution_count": 24,
     "metadata": {},
     "output_type": "execute_result"
    }
   ],
   "source": [
    "from sklearn.ensemble import ExtraTreesClassifier\n",
    "extratree = ExtraTreesClassifier()\n",
    "extratree.fit(X_trainFlat, train_labels)"
   ]
  },
  {
   "cell_type": "code",
   "execution_count": 25,
   "id": "88f75d74",
   "metadata": {},
   "outputs": [],
   "source": [
    "y_pred5 = extratree.predict(X_testFlat)"
   ]
  },
  {
   "cell_type": "code",
   "execution_count": 26,
   "id": "09e5eeb7",
   "metadata": {},
   "outputs": [
    {
     "name": "stdout",
     "output_type": "stream",
     "text": [
      "Accuracy is: 100.0\n"
     ]
    }
   ],
   "source": [
    "from sklearn.metrics import accuracy_score\n",
    "accuracy = {accuracy_score(test_labels, y_pred5)}\n",
    "print(f\"Accuracy is: {accuracy_score(test_labels, y_pred5)* 100}\")"
   ]
  },
  {
   "cell_type": "code",
   "execution_count": 27,
   "id": "9739210c",
   "metadata": {},
   "outputs": [
    {
     "name": "stdout",
     "output_type": "stream",
     "text": [
      "\u001b[1mClassification report : \u001b[0m\n",
      "               precision    recall  f1-score   support\n",
      "\n",
      "           0       1.00      1.00      1.00       113\n",
      "           1       1.00      1.00      1.00       108\n",
      "\n",
      "    accuracy                           1.00       221\n",
      "   macro avg       1.00      1.00      1.00       221\n",
      "weighted avg       1.00      1.00      1.00       221\n",
      "\n",
      "\u001b[1mConfusion Matrix : \u001b[0m\n"
     ]
    },
    {
     "data": {
      "image/png": "[encoded data removed]",
      "text/plain": [
       "<Figure size 432x288 with 2 Axes>"
      ]
     },
     "metadata": {
      "needs_background": "light"
     },
     "output_type": "display_data"
    }
   ],
   "source": [
    "print('\\033[1m' +'Classification report : '+ '\\033[0m\\n', classification_report(test_labels, y_pred5))\n",
    "\n",
    "cm = confusion_matrix(y_pred5, test_labels)\n",
    "print('\\033[1m' +'Confusion Matrix : '+ '\\033[0m')\n",
    "sns.heatmap(cm, cmap = 'OrRd',annot = True, fmt='d')\n",
    "plt.show()"
   ]
  },
  {
   "cell_type": "markdown",
   "id": "7e5c0b70",
   "metadata": {},
   "source": [
    "# Evaluation -- ExtraTreesClassifier"
   ]
  },
  {
   "cell_type": "code",
   "execution_count": 28,
   "id": "dbd3e862",
   "metadata": {},
   "outputs": [
    {
     "name": "stdout",
     "output_type": "stream",
     "text": [
      "MAE: 0.0\n",
      "MSE: 0.0\n",
      "RMSE: 0.0\n"
     ]
    }
   ],
   "source": [
    "from sklearn import metrics\n",
    "\n",
    "print('MAE:', metrics.mean_absolute_error(test_labels,y_pred5))\n",
    "print('MSE:', metrics.mean_squared_error(test_labels, y_pred5))\n",
    "print('RMSE:', np.sqrt(metrics.mean_squared_error(test_labels, y_pred5)))"
   ]
  },
  {
   "cell_type": "code",
   "execution_count": 29,
   "id": "022cec18",
   "metadata": {},
   "outputs": [
    {
     "name": "stdout",
     "output_type": "stream",
     "text": [
      "Precision Score :  1.0\n",
      "Recall Score :  1.0\n",
      "f1_score :  1.0\n"
     ]
    }
   ],
   "source": [
    "from sklearn.metrics import precision_score\n",
    "print(\"Precision Score : \",precision_score(test_labels, y_pred5, average='weighted'))\n",
    "\n",
    "\n",
    "from sklearn.metrics import recall_score\n",
    "print(\"Recall Score : \",recall_score(test_labels, y_pred5,average='weighted'))\n",
    "\n",
    "\n",
    "from sklearn.metrics import f1_score\n",
    "print(\"f1_score : \",f1_score(test_labels, y_pred5,average='weighted'))"
   ]
  },
  {
   "cell_type": "markdown",
   "id": "a10863c8",
   "metadata": {},
   "source": [
    "# KNeighborsClassifier"
   ]
  },
  {
   "cell_type": "code",
   "execution_count": 30,
   "id": "212b76a7",
   "metadata": {},
   "outputs": [
    {
     "data": {
      "text/plain": [
       "KNeighborsClassifier()"
      ]
     },
     "execution_count": 30,
     "metadata": {},
     "output_type": "execute_result"
    }
   ],
   "source": [
    "from sklearn.neighbors import KNeighborsClassifier\n",
    "KNeighborsClassifier = KNeighborsClassifier()\n",
    "KNeighborsClassifier.fit(X_trainFlat, train_labels)"
   ]
  },
  {
   "cell_type": "code",
   "execution_count": 31,
   "id": "c6ca2e54",
   "metadata": {},
   "outputs": [],
   "source": [
    "y_pred2 = KNeighborsClassifier.predict(X_testFlat)"
   ]
  },
  {
   "cell_type": "code",
   "execution_count": 32,
   "id": "ef8d8a2e",
   "metadata": {},
   "outputs": [
    {
     "name": "stdout",
     "output_type": "stream",
     "text": [
      "Accuracy is: 98.19004524886877\n"
     ]
    }
   ],
   "source": [
    "from sklearn.metrics import accuracy_score\n",
    "accuracy = {accuracy_score(test_labels, y_pred2)}\n",
    "print(f\"Accuracy is: {accuracy_score(test_labels, y_pred2)* 100}\")"
   ]
  },
  {
   "cell_type": "code",
   "execution_count": 33,
   "id": "d52975d4",
   "metadata": {},
   "outputs": [
    {
     "name": "stdout",
     "output_type": "stream",
     "text": [
      "\u001b[1mClassification report : \u001b[0m\n",
      "               precision    recall  f1-score   support\n",
      "\n",
      "           0       0.97      0.99      0.98       113\n",
      "           1       0.99      0.97      0.98       108\n",
      "\n",
      "    accuracy                           0.98       221\n",
      "   macro avg       0.98      0.98      0.98       221\n",
      "weighted avg       0.98      0.98      0.98       221\n",
      "\n",
      "\u001b[1mConfusion Matrix : \u001b[0m\n"
     ]
    },
    {
     "data": {
      "image/png": "[encoded data removed]",
      "text/plain": [
       "<Figure size 432x288 with 2 Axes>"
      ]
     },
     "metadata": {
      "needs_background": "light"
     },
     "output_type": "display_data"
    }
   ],
   "source": [
    "print('\\033[1m' +'Classification report : '+ '\\033[0m\\n', classification_report(test_labels, y_pred2))\n",
    "\n",
    "cm = confusion_matrix(y_pred2, test_labels)\n",
    "print('\\033[1m' +'Confusion Matrix : '+ '\\033[0m')\n",
    "sns.heatmap(cm, cmap = 'OrRd',annot = True, fmt='d')\n",
    "plt.show()"
   ]
  },
  {
   "cell_type": "markdown",
   "id": "9c8b4b35",
   "metadata": {},
   "source": [
    "# Evaluation -- KNeighborsClassifier"
   ]
  },
  {
   "cell_type": "code",
   "execution_count": 34,
   "id": "af6f151b",
   "metadata": {},
   "outputs": [
    {
     "name": "stdout",
     "output_type": "stream",
     "text": [
      "MAE: 0.01809954751131222\n",
      "MSE: 0.01809954751131222\n",
      "RMSE: 0.1345345587992625\n"
     ]
    }
   ],
   "source": [
    "from sklearn import metrics\n",
    "\n",
    "print('MAE:', metrics.mean_absolute_error(test_labels,y_pred2))\n",
    "print('MSE:', metrics.mean_squared_error(test_labels, y_pred2))\n",
    "print('RMSE:', np.sqrt(metrics.mean_squared_error(test_labels, y_pred2)))"
   ]
  },
  {
   "cell_type": "code",
   "execution_count": 35,
   "id": "1463731a",
   "metadata": {},
   "outputs": [
    {
     "name": "stdout",
     "output_type": "stream",
     "text": [
      "Precision Score :  0.9820511583190732\n",
      "Recall Score :  0.9819004524886877\n",
      "f1_score :  0.9818952591441813\n"
     ]
    }
   ],
   "source": [
    "from sklearn.metrics import precision_score\n",
    "print(\"Precision Score : \",precision_score(test_labels, y_pred2, average='weighted'))\n",
    "\n",
    "\n",
    "from sklearn.metrics import recall_score\n",
    "print(\"Recall Score : \",recall_score(test_labels, y_pred2,average='weighted'))\n",
    "\n",
    "\n",
    "from sklearn.metrics import f1_score\n",
    "print(\"f1_score : \",f1_score(test_labels, y_pred2,average='weighted'))"
   ]
  },
  {
   "cell_type": "markdown",
   "id": "e38cb42a",
   "metadata": {},
   "source": [
    "# XGBoost"
   ]
  },
  {
   "cell_type": "raw",
   "id": "4374d627",
   "metadata": {},
   "source": [
    "from xgboost import XGBClassifier\n",
    "xgb = XGBClassifier()\n",
    "xgb.fit(X_trainFlat, train_labels)"
   ]
  },
  {
   "cell_type": "raw",
   "id": "4d7620b9",
   "metadata": {},
   "source": [
    "y_pred4 = xgb.predict(X_testFlat)"
   ]
  },
  {
   "cell_type": "raw",
   "id": "27f72ffc",
   "metadata": {},
   "source": [
    "from sklearn.metrics import accuracy_score\n",
    "accuracy = {accuracy_score(test_labels, y_pred4)}\n",
    "print(f\"Accuracy is: {accuracy_score(test_labels, y_pred4)* 100}\")"
   ]
  },
  {
   "cell_type": "raw",
   "id": "60a7326c",
   "metadata": {},
   "source": [
    "print('\\033[1m' +'Classification report : '+ '\\033[0m\\n', classification_report(test_labels, y_pred4))\n",
    "\n",
    "cm = confusion_matrix(y_pred4, test_labels)\n",
    "print('\\033[1m' +'Confusion Matrix : '+ '\\033[0m')\n",
    "sns.heatmap(cm, cmap = 'OrRd',annot = True, fmt='d')\n",
    "plt.show()"
   ]
  },
  {
   "cell_type": "markdown",
   "id": "9fe91573",
   "metadata": {},
   "source": [
    "# Evaluation -- XGBoost"
   ]
  },
  {
   "cell_type": "raw",
   "id": "b3839786",
   "metadata": {},
   "source": [
    "from sklearn import metrics\n",
    "\n",
    "print('MAE:', metrics.mean_absolute_error(test_labels,y_pred4))\n",
    "print('MSE:', metrics.mean_squared_error(test_labels, y_pred4))\n",
    "print('RMSE:', np.sqrt(metrics.mean_squared_error(test_labels, y_pred4)))"
   ]
  },
  {
   "cell_type": "raw",
   "id": "9489e241",
   "metadata": {},
   "source": [
    "from sklearn.metrics import precision_score\n",
    "print(\"Precision Score : \",precision_score(test_labels, y_pred4, average='weighted'))\n",
    "\n",
    "\n",
    "from sklearn.metrics import recall_score\n",
    "print(\"Recall Score : \",recall_score(test_labels, y_pred4,average='weighted'))\n",
    "\n",
    "\n",
    "from sklearn.metrics import f1_score\n",
    "print(\"f1_score : \",f1_score(test_labels, y_pred4,average='weighted'))"
   ]
  },
  {
   "cell_type": "markdown",
   "id": "b0e25b1b",
   "metadata": {},
   "source": [
    "# Logistic Regression"
   ]
  },
  {
   "cell_type": "code",
   "execution_count": 36,
   "id": "9b8f83fe",
   "metadata": {},
   "outputs": [
    {
     "name": "stderr",
     "output_type": "stream",
     "text": [
      "C:\\Users\\nafem\\anaconda3\\lib\\site-packages\\sklearn\\linear_model\\_logistic.py:814: ConvergenceWarning: lbfgs failed to converge (status=1):\n",
      "STOP: TOTAL NO. of ITERATIONS REACHED LIMIT.\n",
      "\n",
      "Increase the number of iterations (max_iter) or scale the data as shown in:\n",
      "    https://scikit-learn.org/stable/modules/preprocessing.html\n",
      "Please also refer to the documentation for alternative solver options:\n",
      "    https://scikit-learn.org/stable/modules/linear_model.html#logistic-regression\n",
      "  n_iter_i = _check_optimize_result(\n"
     ]
    },
    {
     "data": {
      "text/plain": [
       "LogisticRegression()"
      ]
     },
     "execution_count": 36,
     "metadata": {},
     "output_type": "execute_result"
    }
   ],
   "source": [
    "from sklearn.linear_model import LogisticRegression\n",
    "classifier6 = LogisticRegression()\n",
    "classifier6.fit(X_trainFlat, train_labels)"
   ]
  },
  {
   "cell_type": "code",
   "execution_count": 37,
   "id": "d37c3cb3",
   "metadata": {},
   "outputs": [],
   "source": [
    "y_pred6 = classifier6.predict(X_testFlat)"
   ]
  },
  {
   "cell_type": "code",
   "execution_count": 38,
   "id": "77ef4bee",
   "metadata": {},
   "outputs": [
    {
     "name": "stdout",
     "output_type": "stream",
     "text": [
      "Accuracy is: 100.0\n"
     ]
    }
   ],
   "source": [
    "from sklearn.metrics import accuracy_score\n",
    "accuracy = {accuracy_score(test_labels, y_pred6)}\n",
    "print(f\"Accuracy is: {accuracy_score(test_labels, y_pred6)* 100}\")"
   ]
  },
  {
   "cell_type": "code",
   "execution_count": 39,
   "id": "32a9ccdb",
   "metadata": {},
   "outputs": [
    {
     "name": "stdout",
     "output_type": "stream",
     "text": [
      "\u001b[1mClassification report : \u001b[0m\n",
      "               precision    recall  f1-score   support\n",
      "\n",
      "           0       1.00      1.00      1.00       113\n",
      "           1       1.00      1.00      1.00       108\n",
      "\n",
      "    accuracy                           1.00       221\n",
      "   macro avg       1.00      1.00      1.00       221\n",
      "weighted avg       1.00      1.00      1.00       221\n",
      "\n",
      "\u001b[1mConfusion Matrix : \u001b[0m\n"
     ]
    },
    {
     "data": {
      "image/png": "[encoded data removed]",
      "text/plain": [
       "<Figure size 432x288 with 2 Axes>"
      ]
     },
     "metadata": {
      "needs_background": "light"
     },
     "output_type": "display_data"
    }
   ],
   "source": [
    "print('\\033[1m' +'Classification report : '+ '\\033[0m\\n', classification_report(test_labels, y_pred6))\n",
    "\n",
    "cm = confusion_matrix(y_pred6, test_labels)\n",
    "print('\\033[1m' +'Confusion Matrix : '+ '\\033[0m')\n",
    "sns.heatmap(cm, cmap = 'OrRd',annot = True, fmt='d')\n",
    "plt.show()"
   ]
  },
  {
   "cell_type": "markdown",
   "id": "759b984f",
   "metadata": {},
   "source": [
    "# Evaluation -- Logistic Regression"
   ]
  },
  {
   "cell_type": "code",
   "execution_count": 40,
   "id": "501b13c6",
   "metadata": {},
   "outputs": [
    {
     "name": "stdout",
     "output_type": "stream",
     "text": [
      "MAE: 0.0\n",
      "MSE: 0.0\n",
      "RMSE: 0.0\n"
     ]
    }
   ],
   "source": [
    "from sklearn import metrics\n",
    "\n",
    "print('MAE:', metrics.mean_absolute_error(test_labels,y_pred6))\n",
    "print('MSE:', metrics.mean_squared_error(test_labels, y_pred6))\n",
    "print('RMSE:', np.sqrt(metrics.mean_squared_error(test_labels, y_pred6)))"
   ]
  },
  {
   "cell_type": "code",
   "execution_count": 41,
   "id": "2f99cb87",
   "metadata": {},
   "outputs": [
    {
     "name": "stdout",
     "output_type": "stream",
     "text": [
      "Precision Score :  1.0\n",
      "Recall Score :  1.0\n",
      "f1_score :  1.0\n"
     ]
    }
   ],
   "source": [
    "from sklearn.metrics import precision_score\n",
    "print(\"Precision Score : \",precision_score(test_labels, y_pred6, average='weighted'))\n",
    "\n",
    "\n",
    "from sklearn.metrics import recall_score\n",
    "print(\"Recall Score : \",recall_score(test_labels, y_pred6,average='weighted'))\n",
    "\n",
    "\n",
    "from sklearn.metrics import f1_score\n",
    "print(\"f1_score : \",f1_score(test_labels, y_pred6,average='weighted'))"
   ]
  },
  {
   "cell_type": "markdown",
   "id": "7524a881",
   "metadata": {},
   "source": [
    "# Support Vector Machine"
   ]
  },
  {
   "cell_type": "raw",
   "id": "3aa56ca7",
   "metadata": {},
   "source": [
    "from sklearn import svm\n",
    "classifier7 = svm.SVC()\n",
    "classifier7.fit(X_trainFlat, train_labels)"
   ]
  },
  {
   "cell_type": "raw",
   "id": "b5f6b1fe",
   "metadata": {},
   "source": [
    "y_pred7 = classifier7.predict(X_testFlat)"
   ]
  },
  {
   "cell_type": "raw",
   "id": "8339217f",
   "metadata": {},
   "source": [
    "from sklearn.metrics import accuracy_score\n",
    "accuracy = {accuracy_score(test_labels, y_pred7)}\n",
    "print(f\"Accuracy is: {accuracy_score(test_labels, y_pred7)* 100}\")"
   ]
  },
  {
   "cell_type": "raw",
   "id": "30207d21",
   "metadata": {},
   "source": [
    "print('\\033[1m' +'Classification report : '+ '\\033[0m\\n', classification_report(test_labels, y_pred7))\n",
    "\n",
    "cm = confusion_matrix(y_pred7, test_labels)\n",
    "print('\\033[1m' +'Confusion Matrix : '+ '\\033[0m')\n",
    "sns.heatmap(cm, cmap = 'OrRd',annot = True, fmt='d')\n",
    "plt.show()"
   ]
  },
  {
   "cell_type": "markdown",
   "id": "fbeb1f86",
   "metadata": {},
   "source": [
    "# Evaluation -- Support Vector Machine"
   ]
  },
  {
   "cell_type": "raw",
   "id": "ccd8fd47",
   "metadata": {},
   "source": [
    "from sklearn import metrics\n",
    "\n",
    "print('MAE:', metrics.mean_absolute_error(test_labels,y_pred7))\n",
    "print('MSE:', metrics.mean_squared_error(test_labels, y_pred7))\n",
    "print('RMSE:', np.sqrt(metrics.mean_squared_error(test_labels, y_pred7)))"
   ]
  },
  {
   "cell_type": "raw",
   "id": "81014bfd",
   "metadata": {},
   "source": [
    "from sklearn.metrics import precision_score\n",
    "print(\"Precision Score : \",precision_score(test_labels, y_pred7, average='weighted'))\n",
    "\n",
    "\n",
    "from sklearn.metrics import recall_score\n",
    "print(\"Recall Score : \",recall_score(test_labels, y_pred7,average='weighted'))\n",
    "\n",
    "\n",
    "from sklearn.metrics import f1_score\n",
    "print(\"f1_score : \",f1_score(test_labels, y_pred7,average='weighted'))"
   ]
  },
  {
   "cell_type": "code",
   "execution_count": null,
   "id": "dca03ebd",
   "metadata": {},
   "outputs": [],
   "source": []
  },
  {
   "cell_type": "code",
   "execution_count": null,
   "id": "4147a287",
   "metadata": {},
   "outputs": [],
   "source": []
  },
  {
   "cell_type": "code",
   "execution_count": null,
   "id": "e277f58f",
   "metadata": {},
   "outputs": [],
   "source": []
  },
  {
   "cell_type": "code",
   "execution_count": null,
   "id": "bed84029",
   "metadata": {},
   "outputs": [],
   "source": []
  }
 ],
 "metadata": {
  "kernelspec": {
   "display_name": "Python 3 (ipykernel)",
   "language": "python",
   "name": "python3"
  },
  "language_info": {
   "codemirror_mode": {
    "name": "ipython",
    "version": 3
   },
   "file_extension": ".py",
   "mimetype": "text/x-python",
   "name": "python",
   "nbconvert_exporter": "python",
   "pygments_lexer": "ipython3",
   "version": "3.8.12"
  }
 },
 "nbformat": 4,
 "nbformat_minor": 5
}
